{
 "cells": [
  {
   "cell_type": "markdown",
   "metadata": {
    "id": "dfEnYLlo9yAM"
   },
   "source": [
    "# INF8111 - Fouille de données\n",
    "\n",
    "\n",
    "## TP1 AUTOMNE 2025 - Préparation de données\n",
    "\n",
    "\n"
   ]
  },
  {
   "cell_type": "markdown",
   "metadata": {
    "id": "aveyr1en994y"
   },
   "source": [
    "### Instructions de remise\n",
    "\n",
    "#### Membres de l'équipe :\n",
    "    - Nom (Matricule) 1\n",
    "    - Nom (Matricule) 2\n",
    "    - Nom (Matricule) 3\n",
    "\n",
    "#### Numéro du groupe :\n",
    "    - TP - Groupe #\n",
    "    \n",
    "#### Livrable :\n",
    "\n",
    "Vous devez soumettre ce notebook sur Moodle dans la boite de remise sous le nom TP1_NumeroGroupe_matricule1_matricule2_matricule3.ipynb .\n",
    "\n",
    "**NB**: Tout travail en retard sera pénalisé d'une valeur de 10\\% par jour de retard.\n"
   ]
  },
  {
   "cell_type": "markdown",
   "metadata": {
    "id": "8WFBkYc660pI"
   },
   "source": [
    "## Introduction et objectifs"
   ]
  },
  {
   "cell_type": "markdown",
   "metadata": {
    "id": "9fbCQ4YHNFtn"
   },
   "source": [
    "### Importation des différents modules"
   ]
  },
  {
   "cell_type": "code",
   "execution_count": 1,
   "metadata": {
    "id": "Dni6R3K760pK"
   },
   "outputs": [
    {
     "name": "stdout",
     "output_type": "stream",
     "text": [
      "Collecting pandas\n",
      "  Obtaining dependency information for pandas from https://files.pythonhosted.org/packages/28/30/8114832daff7489f179971dbc1d854109b7f4365a546e3ea75b6516cea95/pandas-2.3.2-cp312-cp312-win_amd64.whl.metadata\n",
      "  Downloading pandas-2.3.2-cp312-cp312-win_amd64.whl.metadata (19 kB)\n",
      "Collecting numpy>=1.26.0 (from pandas)\n",
      "  Obtaining dependency information for numpy>=1.26.0 from https://files.pythonhosted.org/packages/32/ee/de999f2625b80d043d6d2d628c07d0d5555a677a3cf78fdf868d409b8766/numpy-2.3.3-cp312-cp312-win_amd64.whl.metadata\n",
      "  Downloading numpy-2.3.3-cp312-cp312-win_amd64.whl.metadata (60 kB)\n",
      "     ---------------------------------------- 0.0/60.9 kB ? eta -:--:--\n",
      "     -------------------- ------------------- 30.7/60.9 kB 1.4 MB/s eta 0:00:01\n",
      "     ---------------------------------------- 60.9/60.9 kB 1.1 MB/s eta 0:00:00\n",
      "Requirement already satisfied: python-dateutil>=2.8.2 in c:\\users\\hanna\\onedrive\\documents\\courspoly\\inf81111\\venv\\lib\\site-packages (from pandas) (2.9.0.post0)\n",
      "Collecting pytz>=2020.1 (from pandas)\n",
      "  Obtaining dependency information for pytz>=2020.1 from https://files.pythonhosted.org/packages/81/c4/34e93fe5f5429d7570ec1fa436f1986fb1f00c3e0f43a589fe2bbcd22c3f/pytz-2025.2-py2.py3-none-any.whl.metadata\n",
      "  Using cached pytz-2025.2-py2.py3-none-any.whl.metadata (22 kB)\n",
      "Collecting tzdata>=2022.7 (from pandas)\n",
      "  Obtaining dependency information for tzdata>=2022.7 from https://files.pythonhosted.org/packages/5c/23/c7abc0ca0a1526a0774eca151daeb8de62ec457e77262b66b359c3c7679e/tzdata-2025.2-py2.py3-none-any.whl.metadata\n",
      "  Using cached tzdata-2025.2-py2.py3-none-any.whl.metadata (1.4 kB)\n",
      "Requirement already satisfied: six>=1.5 in c:\\users\\hanna\\onedrive\\documents\\courspoly\\inf81111\\venv\\lib\\site-packages (from python-dateutil>=2.8.2->pandas) (1.17.0)\n",
      "Downloading pandas-2.3.2-cp312-cp312-win_amd64.whl (11.0 MB)\n",
      "   ---------------------------------------- 0.0/11.0 MB ? eta -:--:--\n",
      "   ---------------------------------------- 0.1/11.0 MB 4.5 MB/s eta 0:00:03\n",
      "   - -------------------------------------- 0.5/11.0 MB 8.3 MB/s eta 0:00:02\n",
      "   ------- -------------------------------- 2.1/11.0 MB 19.1 MB/s eta 0:00:01\n",
      "   -------------- ------------------------- 4.0/11.0 MB 25.4 MB/s eta 0:00:01\n",
      "   ---------------------- ----------------- 6.1/11.0 MB 29.9 MB/s eta 0:00:01\n",
      "   ----------------------------- ---------- 8.1/11.0 MB 32.3 MB/s eta 0:00:01\n",
      "   -------------------------------------- - 10.5/11.0 MB 40.9 MB/s eta 0:00:01\n",
      "   ---------------------------------------- 11.0/11.0 MB 40.9 MB/s eta 0:00:00\n",
      "Downloading numpy-2.3.3-cp312-cp312-win_amd64.whl (12.8 MB)\n",
      "   ---------------------------------------- 0.0/12.8 MB ? eta -:--:--\n",
      "   -------- ------------------------------- 2.6/12.8 MB 82.3 MB/s eta 0:00:01\n",
      "   ---------------- ----------------------- 5.2/12.8 MB 66.0 MB/s eta 0:00:01\n",
      "   -------------------------- ------------- 8.4/12.8 MB 66.8 MB/s eta 0:00:01\n",
      "   ------------------------------------ --- 11.7/12.8 MB 65.2 MB/s eta 0:00:01\n",
      "   ---------------------------------------- 12.8/12.8 MB 54.4 MB/s eta 0:00:00\n",
      "Using cached pytz-2025.2-py2.py3-none-any.whl (509 kB)\n",
      "Using cached tzdata-2025.2-py2.py3-none-any.whl (347 kB)\n",
      "Installing collected packages: pytz, tzdata, numpy, pandas\n",
      "Successfully installed numpy-2.3.3 pandas-2.3.2 pytz-2025.2 tzdata-2025.2\n"
     ]
    },
    {
     "name": "stderr",
     "output_type": "stream",
     "text": [
      "\n",
      "[notice] A new release of pip is available: 23.2.1 -> 25.2\n",
      "[notice] To update, run: python.exe -m pip install --upgrade pip\n"
     ]
    },
    {
     "name": "stdout",
     "output_type": "stream",
     "text": [
      "Requirement already satisfied: numpy in c:\\users\\hanna\\onedrive\\documents\\courspoly\\inf81111\\venv\\lib\\site-packages (2.3.3)\n"
     ]
    },
    {
     "name": "stderr",
     "output_type": "stream",
     "text": [
      "\n",
      "[notice] A new release of pip is available: 23.2.1 -> 25.2\n",
      "[notice] To update, run: python.exe -m pip install --upgrade pip\n"
     ]
    },
    {
     "name": "stdout",
     "output_type": "stream",
     "text": [
      "Collecting scikit-learn\n",
      "  Obtaining dependency information for scikit-learn from https://files.pythonhosted.org/packages/c6/99/ed35197a158f1fdc2fe7c3680e9c70d0128f662e1fee4ed495f4b5e13db0/scikit_learn-1.7.2-cp312-cp312-win_amd64.whl.metadata\n",
      "  Downloading scikit_learn-1.7.2-cp312-cp312-win_amd64.whl.metadata (11 kB)\n",
      "Requirement already satisfied: numpy>=1.22.0 in c:\\users\\hanna\\onedrive\\documents\\courspoly\\inf81111\\venv\\lib\\site-packages (from scikit-learn) (2.3.3)\n",
      "Collecting scipy>=1.8.0 (from scikit-learn)\n",
      "  Obtaining dependency information for scipy>=1.8.0 from https://files.pythonhosted.org/packages/14/c3/61f273ae550fbf1667675701112e380881905e28448c080b23b5a181df7c/scipy-1.16.1-cp312-cp312-win_amd64.whl.metadata\n",
      "  Downloading scipy-1.16.1-cp312-cp312-win_amd64.whl.metadata (60 kB)\n",
      "     ---------------------------------------- 0.0/60.8 kB ? eta -:--:--\n",
      "     ------ --------------------------------- 10.2/60.8 kB ? eta -:--:--\n",
      "     ------------------------- ------------ 41.0/60.8 kB 487.6 kB/s eta 0:00:01\n",
      "     -------------------------------------- 60.8/60.8 kB 640.0 kB/s eta 0:00:00\n",
      "Collecting joblib>=1.2.0 (from scikit-learn)\n",
      "  Obtaining dependency information for joblib>=1.2.0 from https://files.pythonhosted.org/packages/1e/e8/685f47e0d754320684db4425a0967f7d3fa70126bffd76110b7009a0090f/joblib-1.5.2-py3-none-any.whl.metadata\n",
      "  Downloading joblib-1.5.2-py3-none-any.whl.metadata (5.6 kB)\n",
      "Collecting threadpoolctl>=3.1.0 (from scikit-learn)\n",
      "  Obtaining dependency information for threadpoolctl>=3.1.0 from https://files.pythonhosted.org/packages/32/d5/f9a850d79b0851d1d4ef6456097579a9005b31fea68726a4ae5f2d82ddd9/threadpoolctl-3.6.0-py3-none-any.whl.metadata\n",
      "  Using cached threadpoolctl-3.6.0-py3-none-any.whl.metadata (13 kB)\n",
      "Downloading scikit_learn-1.7.2-cp312-cp312-win_amd64.whl (8.7 MB)\n",
      "   ---------------------------------------- 0.0/8.7 MB ? eta -:--:--\n",
      "    --------------------------------------- 0.2/8.7 MB 5.4 MB/s eta 0:00:02\n",
      "   ---- ----------------------------------- 0.9/8.7 MB 11.3 MB/s eta 0:00:01\n",
      "   ------------ --------------------------- 2.8/8.7 MB 22.3 MB/s eta 0:00:01\n",
      "   --------------------- ------------------ 4.7/8.7 MB 27.4 MB/s eta 0:00:01\n",
      "   -------------------------------- ------- 7.1/8.7 MB 32.4 MB/s eta 0:00:01\n",
      "   ---------------------------------------  8.7/8.7 MB 34.9 MB/s eta 0:00:01\n",
      "   ---------------------------------------- 8.7/8.7 MB 32.8 MB/s eta 0:00:00\n",
      "Downloading joblib-1.5.2-py3-none-any.whl (308 kB)\n",
      "   ---------------------------------------- 0.0/308.4 kB ? eta -:--:--\n",
      "   ---------------------------------------- 308.4/308.4 kB ? eta 0:00:00\n",
      "Downloading scipy-1.16.1-cp312-cp312-win_amd64.whl (38.5 MB)\n",
      "   ---------------------------------------- 0.0/38.5 MB ? eta -:--:--\n",
      "   -- ------------------------------------- 2.1/38.5 MB 64.0 MB/s eta 0:00:01\n",
      "   --- ------------------------------------ 3.7/38.5 MB 46.5 MB/s eta 0:00:01\n",
      "   ----- ---------------------------------- 5.4/38.5 MB 43.5 MB/s eta 0:00:01\n",
      "   -------- ------------------------------- 8.4/38.5 MB 49.1 MB/s eta 0:00:01\n",
      "   ----------- ---------------------------- 11.4/38.5 MB 50.4 MB/s eta 0:00:01\n",
      "   -------------- ------------------------- 14.3/38.5 MB 54.7 MB/s eta 0:00:01\n",
      "   ----------------- ---------------------- 16.9/38.5 MB 59.5 MB/s eta 0:00:01\n",
      "   -------------------- ------------------- 20.1/38.5 MB 65.6 MB/s eta 0:00:01\n",
      "   ----------------------- ---------------- 22.1/38.5 MB 59.5 MB/s eta 0:00:01\n",
      "   -------------------------- ------------- 25.4/38.5 MB 65.2 MB/s eta 0:00:01\n",
      "   ----------------------------- ---------- 28.7/38.5 MB 59.8 MB/s eta 0:00:01\n",
      "   --------------------------------- ------ 32.6/38.5 MB 73.1 MB/s eta 0:00:01\n",
      "   ------------------------------------- -- 36.4/38.5 MB 81.8 MB/s eta 0:00:01\n",
      "   ---------------------------------------  38.5/38.5 MB 81.8 MB/s eta 0:00:01\n",
      "   ---------------------------------------  38.5/38.5 MB 81.8 MB/s eta 0:00:01\n",
      "   ---------------------------------------- 38.5/38.5 MB 50.1 MB/s eta 0:00:00\n",
      "Using cached threadpoolctl-3.6.0-py3-none-any.whl (18 kB)\n",
      "Installing collected packages: threadpoolctl, scipy, joblib, scikit-learn\n",
      "Successfully installed joblib-1.5.2 scikit-learn-1.7.2 scipy-1.16.1 threadpoolctl-3.6.0\n"
     ]
    },
    {
     "name": "stderr",
     "output_type": "stream",
     "text": [
      "\n",
      "[notice] A new release of pip is available: 23.2.1 -> 25.2\n",
      "[notice] To update, run: python.exe -m pip install --upgrade pip\n"
     ]
    },
    {
     "name": "stdout",
     "output_type": "stream",
     "text": [
      "Collecting seaborn\n",
      "  Obtaining dependency information for seaborn from https://files.pythonhosted.org/packages/83/11/00d3c3dfc25ad54e731d91449895a79e4bf2384dc3ac01809010ba88f6d5/seaborn-0.13.2-py3-none-any.whl.metadata\n",
      "  Using cached seaborn-0.13.2-py3-none-any.whl.metadata (5.4 kB)\n",
      "Requirement already satisfied: numpy!=1.24.0,>=1.20 in c:\\users\\hanna\\onedrive\\documents\\courspoly\\inf81111\\venv\\lib\\site-packages (from seaborn) (2.3.3)\n",
      "Requirement already satisfied: pandas>=1.2 in c:\\users\\hanna\\onedrive\\documents\\courspoly\\inf81111\\venv\\lib\\site-packages (from seaborn) (2.3.2)\n",
      "Collecting matplotlib!=3.6.1,>=3.4 (from seaborn)\n",
      "  Obtaining dependency information for matplotlib!=3.6.1,>=3.4 from https://files.pythonhosted.org/packages/45/c3/994ef20eb4154ab84cc08d033834555319e4af970165e6c8894050af0b3c/matplotlib-3.10.6-cp312-cp312-win_amd64.whl.metadata\n",
      "  Downloading matplotlib-3.10.6-cp312-cp312-win_amd64.whl.metadata (11 kB)\n",
      "Collecting contourpy>=1.0.1 (from matplotlib!=3.6.1,>=3.4->seaborn)\n",
      "  Obtaining dependency information for contourpy>=1.0.1 from https://files.pythonhosted.org/packages/19/e8/6026ed58a64563186a9ee3f29f41261fd1828f527dd93d33b60feca63352/contourpy-1.3.3-cp312-cp312-win_amd64.whl.metadata\n",
      "  Downloading contourpy-1.3.3-cp312-cp312-win_amd64.whl.metadata (5.5 kB)\n",
      "Collecting cycler>=0.10 (from matplotlib!=3.6.1,>=3.4->seaborn)\n",
      "  Obtaining dependency information for cycler>=0.10 from https://files.pythonhosted.org/packages/e7/05/c19819d5e3d95294a6f5947fb9b9629efb316b96de511b418c53d245aae6/cycler-0.12.1-py3-none-any.whl.metadata\n",
      "  Using cached cycler-0.12.1-py3-none-any.whl.metadata (3.8 kB)\n",
      "Collecting fonttools>=4.22.0 (from matplotlib!=3.6.1,>=3.4->seaborn)\n",
      "  Obtaining dependency information for fonttools>=4.22.0 from https://files.pythonhosted.org/packages/61/c4/e44bad000c4a4bb2e9ca11491d266e857df98ab6d7428441b173f0fe2517/fonttools-4.59.2-cp312-cp312-win_amd64.whl.metadata\n",
      "  Downloading fonttools-4.59.2-cp312-cp312-win_amd64.whl.metadata (111 kB)\n",
      "     ---------------------------------------- 0.0/111.9 kB ? eta -:--:--\n",
      "     ---------- ---------------------------- 30.7/111.9 kB 1.3 MB/s eta 0:00:01\n",
      "     -------------------------------------- 111.9/111.9 kB 1.6 MB/s eta 0:00:00\n",
      "Collecting kiwisolver>=1.3.1 (from matplotlib!=3.6.1,>=3.4->seaborn)\n",
      "  Obtaining dependency information for kiwisolver>=1.3.1 from https://files.pythonhosted.org/packages/a0/41/85d82b0291db7504da3c2defe35c9a8a5c9803a730f297bd823d11d5fb77/kiwisolver-1.4.9-cp312-cp312-win_amd64.whl.metadata\n",
      "  Downloading kiwisolver-1.4.9-cp312-cp312-win_amd64.whl.metadata (6.4 kB)\n",
      "Requirement already satisfied: packaging>=20.0 in c:\\users\\hanna\\onedrive\\documents\\courspoly\\inf81111\\venv\\lib\\site-packages (from matplotlib!=3.6.1,>=3.4->seaborn) (25.0)\n",
      "Collecting pillow>=8 (from matplotlib!=3.6.1,>=3.4->seaborn)\n",
      "  Obtaining dependency information for pillow>=8 from https://files.pythonhosted.org/packages/8c/ce/e7dfc873bdd9828f3b6e5c2bbb74e47a98ec23cc5c74fc4e54462f0d9204/pillow-11.3.0-cp312-cp312-win_amd64.whl.metadata\n",
      "  Downloading pillow-11.3.0-cp312-cp312-win_amd64.whl.metadata (9.2 kB)\n",
      "Collecting pyparsing>=2.3.1 (from matplotlib!=3.6.1,>=3.4->seaborn)\n",
      "  Obtaining dependency information for pyparsing>=2.3.1 from https://files.pythonhosted.org/packages/05/e7/df2285f3d08fee213f2d041540fa4fc9ca6c2d44cf36d3a035bf2a8d2bcc/pyparsing-3.2.3-py3-none-any.whl.metadata\n",
      "  Using cached pyparsing-3.2.3-py3-none-any.whl.metadata (5.0 kB)\n",
      "Requirement already satisfied: python-dateutil>=2.7 in c:\\users\\hanna\\onedrive\\documents\\courspoly\\inf81111\\venv\\lib\\site-packages (from matplotlib!=3.6.1,>=3.4->seaborn) (2.9.0.post0)\n",
      "Requirement already satisfied: pytz>=2020.1 in c:\\users\\hanna\\onedrive\\documents\\courspoly\\inf81111\\venv\\lib\\site-packages (from pandas>=1.2->seaborn) (2025.2)\n",
      "Requirement already satisfied: tzdata>=2022.7 in c:\\users\\hanna\\onedrive\\documents\\courspoly\\inf81111\\venv\\lib\\site-packages (from pandas>=1.2->seaborn) (2025.2)\n",
      "Requirement already satisfied: six>=1.5 in c:\\users\\hanna\\onedrive\\documents\\courspoly\\inf81111\\venv\\lib\\site-packages (from python-dateutil>=2.7->matplotlib!=3.6.1,>=3.4->seaborn) (1.17.0)\n",
      "Using cached seaborn-0.13.2-py3-none-any.whl (294 kB)\n",
      "Downloading matplotlib-3.10.6-cp312-cp312-win_amd64.whl (8.1 MB)\n",
      "   ---------------------------------------- 0.0/8.1 MB ? eta -:--:--\n",
      "   - -------------------------------------- 0.3/8.1 MB 5.3 MB/s eta 0:00:02\n",
      "   ----- ---------------------------------- 1.1/8.1 MB 12.0 MB/s eta 0:00:01\n",
      "   ------------- -------------------------- 2.8/8.1 MB 20.0 MB/s eta 0:00:01\n",
      "   ------------------------ --------------- 4.9/8.1 MB 26.1 MB/s eta 0:00:01\n",
      "   ------------------------------------- -- 7.5/8.1 MB 32.2 MB/s eta 0:00:01\n",
      "   ---------------------------------------- 8.1/8.1 MB 30.6 MB/s eta 0:00:00\n",
      "Downloading contourpy-1.3.3-cp312-cp312-win_amd64.whl (226 kB)\n",
      "   ---------------------------------------- 0.0/226.6 kB ? eta -:--:--\n",
      "   --------------------------------------- 226.6/226.6 kB 14.4 MB/s eta 0:00:00\n",
      "Using cached cycler-0.12.1-py3-none-any.whl (8.3 kB)\n",
      "Downloading fonttools-4.59.2-cp312-cp312-win_amd64.whl (2.3 MB)\n",
      "   ---------------------------------------- 0.0/2.3 MB ? eta -:--:--\n",
      "   ---------------------------------------  2.3/2.3 MB 72.3 MB/s eta 0:00:01\n",
      "   ---------------------------------------- 2.3/2.3 MB 72.4 MB/s eta 0:00:00\n",
      "Downloading kiwisolver-1.4.9-cp312-cp312-win_amd64.whl (73 kB)\n",
      "   ---------------------------------------- 0.0/73.9 kB ? eta -:--:--\n",
      "   ---------------------------------------- 73.9/73.9 kB ? eta 0:00:00\n",
      "Downloading pillow-11.3.0-cp312-cp312-win_amd64.whl (7.0 MB)\n",
      "   ---------------------------------------- 0.0/7.0 MB ? eta -:--:--\n",
      "   ----------------- ---------------------- 3.1/7.0 MB 66.0 MB/s eta 0:00:01\n",
      "   -------------------------- ------------- 4.7/7.0 MB 49.8 MB/s eta 0:00:01\n",
      "   ---------------------------------------  7.0/7.0 MB 55.8 MB/s eta 0:00:01\n",
      "   ---------------------------------------- 7.0/7.0 MB 49.8 MB/s eta 0:00:00\n",
      "Using cached pyparsing-3.2.3-py3-none-any.whl (111 kB)\n",
      "Installing collected packages: pyparsing, pillow, kiwisolver, fonttools, cycler, contourpy, matplotlib, seaborn\n",
      "Successfully installed contourpy-1.3.3 cycler-0.12.1 fonttools-4.59.2 kiwisolver-1.4.9 matplotlib-3.10.6 pillow-11.3.0 pyparsing-3.2.3 seaborn-0.13.2\n"
     ]
    },
    {
     "name": "stderr",
     "output_type": "stream",
     "text": [
      "\n",
      "[notice] A new release of pip is available: 23.2.1 -> 25.2\n",
      "[notice] To update, run: python.exe -m pip install --upgrade pip\n"
     ]
    },
    {
     "name": "stdout",
     "output_type": "stream",
     "text": [
      "Requirement already satisfied: matplotlib in c:\\users\\hanna\\onedrive\\documents\\courspoly\\inf81111\\venv\\lib\\site-packages (3.10.6)\n",
      "Requirement already satisfied: contourpy>=1.0.1 in c:\\users\\hanna\\onedrive\\documents\\courspoly\\inf81111\\venv\\lib\\site-packages (from matplotlib) (1.3.3)\n",
      "Requirement already satisfied: cycler>=0.10 in c:\\users\\hanna\\onedrive\\documents\\courspoly\\inf81111\\venv\\lib\\site-packages (from matplotlib) (0.12.1)\n",
      "Requirement already satisfied: fonttools>=4.22.0 in c:\\users\\hanna\\onedrive\\documents\\courspoly\\inf81111\\venv\\lib\\site-packages (from matplotlib) (4.59.2)\n",
      "Requirement already satisfied: kiwisolver>=1.3.1 in c:\\users\\hanna\\onedrive\\documents\\courspoly\\inf81111\\venv\\lib\\site-packages (from matplotlib) (1.4.9)\n",
      "Requirement already satisfied: numpy>=1.23 in c:\\users\\hanna\\onedrive\\documents\\courspoly\\inf81111\\venv\\lib\\site-packages (from matplotlib) (2.3.3)\n",
      "Requirement already satisfied: packaging>=20.0 in c:\\users\\hanna\\onedrive\\documents\\courspoly\\inf81111\\venv\\lib\\site-packages (from matplotlib) (25.0)\n",
      "Requirement already satisfied: pillow>=8 in c:\\users\\hanna\\onedrive\\documents\\courspoly\\inf81111\\venv\\lib\\site-packages (from matplotlib) (11.3.0)\n",
      "Requirement already satisfied: pyparsing>=2.3.1 in c:\\users\\hanna\\onedrive\\documents\\courspoly\\inf81111\\venv\\lib\\site-packages (from matplotlib) (3.2.3)\n",
      "Requirement already satisfied: python-dateutil>=2.7 in c:\\users\\hanna\\onedrive\\documents\\courspoly\\inf81111\\venv\\lib\\site-packages (from matplotlib) (2.9.0.post0)\n",
      "Requirement already satisfied: six>=1.5 in c:\\users\\hanna\\onedrive\\documents\\courspoly\\inf81111\\venv\\lib\\site-packages (from python-dateutil>=2.7->matplotlib) (1.17.0)\n"
     ]
    },
    {
     "name": "stderr",
     "output_type": "stream",
     "text": [
      "\n",
      "[notice] A new release of pip is available: 23.2.1 -> 25.2\n",
      "[notice] To update, run: python.exe -m pip install --upgrade pip\n"
     ]
    },
    {
     "name": "stdout",
     "output_type": "stream",
     "text": [
      "Collecting plotly\n",
      "  Obtaining dependency information for plotly from https://files.pythonhosted.org/packages/95/a9/12e2dc726ba1ba775a2c6922d5d5b4488ad60bdab0888c337c194c8e6de8/plotly-6.3.0-py3-none-any.whl.metadata\n",
      "  Downloading plotly-6.3.0-py3-none-any.whl.metadata (8.5 kB)\n",
      "Collecting narwhals>=1.15.1 (from plotly)\n",
      "  Obtaining dependency information for narwhals>=1.15.1 from https://files.pythonhosted.org/packages/8a/8c/ac6f6bd2d118ac49e1bc0285e401c1dc50cf878d48156bbc7969902703b0/narwhals-2.4.0-py3-none-any.whl.metadata\n",
      "  Downloading narwhals-2.4.0-py3-none-any.whl.metadata (11 kB)\n",
      "Requirement already satisfied: packaging in c:\\users\\hanna\\onedrive\\documents\\courspoly\\inf81111\\venv\\lib\\site-packages (from plotly) (25.0)\n",
      "Downloading plotly-6.3.0-py3-none-any.whl (9.8 MB)\n",
      "   ---------------------------------------- 0.0/9.8 MB ? eta -:--:--\n",
      "   ---------------------------------------- 0.0/9.8 MB 1.3 MB/s eta 0:00:08\n",
      "   - -------------------------------------- 0.3/9.8 MB 3.8 MB/s eta 0:00:03\n",
      "   --------- ------------------------------ 2.4/9.8 MB 19.4 MB/s eta 0:00:01\n",
      "   --------------------- ------------------ 5.3/9.8 MB 33.9 MB/s eta 0:00:01\n",
      "   ---------------------------------- ----- 8.3/9.8 MB 41.0 MB/s eta 0:00:01\n",
      "   ---------------------------------------- 9.8/9.8 MB 39.1 MB/s eta 0:00:00\n",
      "Downloading narwhals-2.4.0-py3-none-any.whl (406 kB)\n",
      "   ---------------------------------------- 0.0/406.2 kB ? eta -:--:--\n",
      "   --------------------------------------- 406.2/406.2 kB 26.4 MB/s eta 0:00:00\n",
      "Installing collected packages: narwhals, plotly\n",
      "Successfully installed narwhals-2.4.0 plotly-6.3.0\n"
     ]
    },
    {
     "name": "stderr",
     "output_type": "stream",
     "text": [
      "\n",
      "[notice] A new release of pip is available: 23.2.1 -> 25.2\n",
      "[notice] To update, run: python.exe -m pip install --upgrade pip\n"
     ]
    },
    {
     "name": "stdout",
     "output_type": "stream",
     "text": [
      "Collecting shap\n",
      "  Obtaining dependency information for shap from https://files.pythonhosted.org/packages/8b/34/3dd677ef2a98b74c95188a3fc248cfcb81670a1410ef388f063c962616fa/shap-0.48.0-cp312-cp312-win_amd64.whl.metadata\n",
      "  Downloading shap-0.48.0-cp312-cp312-win_amd64.whl.metadata (25 kB)\n",
      "Requirement already satisfied: numpy in c:\\users\\hanna\\onedrive\\documents\\courspoly\\inf81111\\venv\\lib\\site-packages (from shap) (2.3.3)\n",
      "Requirement already satisfied: scipy in c:\\users\\hanna\\onedrive\\documents\\courspoly\\inf81111\\venv\\lib\\site-packages (from shap) (1.16.1)\n",
      "Requirement already satisfied: scikit-learn in c:\\users\\hanna\\onedrive\\documents\\courspoly\\inf81111\\venv\\lib\\site-packages (from shap) (1.7.2)\n",
      "Requirement already satisfied: pandas in c:\\users\\hanna\\onedrive\\documents\\courspoly\\inf81111\\venv\\lib\\site-packages (from shap) (2.3.2)\n",
      "Collecting tqdm>=4.27.0 (from shap)\n",
      "  Obtaining dependency information for tqdm>=4.27.0 from https://files.pythonhosted.org/packages/d0/30/dc54f88dd4a2b5dc8a0279bdd7270e735851848b762aeb1c1184ed1f6b14/tqdm-4.67.1-py3-none-any.whl.metadata\n",
      "  Using cached tqdm-4.67.1-py3-none-any.whl.metadata (57 kB)\n",
      "Requirement already satisfied: packaging>20.9 in c:\\users\\hanna\\onedrive\\documents\\courspoly\\inf81111\\venv\\lib\\site-packages (from shap) (25.0)\n",
      "Collecting slicer==0.0.8 (from shap)\n",
      "  Obtaining dependency information for slicer==0.0.8 from https://files.pythonhosted.org/packages/63/81/9ef641ff4e12cbcca30e54e72fb0951a2ba195d0cda0ba4100e532d929db/slicer-0.0.8-py3-none-any.whl.metadata\n",
      "  Downloading slicer-0.0.8-py3-none-any.whl.metadata (4.0 kB)\n",
      "Collecting numba>=0.54 (from shap)\n",
      "  Obtaining dependency information for numba>=0.54 from https://files.pythonhosted.org/packages/68/1d/ddb3e704c5a8fb90142bf9dc195c27db02a08a99f037395503bfbc1d14b3/numba-0.61.2-cp312-cp312-win_amd64.whl.metadata\n",
      "  Downloading numba-0.61.2-cp312-cp312-win_amd64.whl.metadata (2.9 kB)\n",
      "Collecting cloudpickle (from shap)\n",
      "  Obtaining dependency information for cloudpickle from https://files.pythonhosted.org/packages/7e/e8/64c37fadfc2816a7701fa8a6ed8d87327c7d54eacfbfb6edab14a2f2be75/cloudpickle-3.1.1-py3-none-any.whl.metadata\n",
      "  Using cached cloudpickle-3.1.1-py3-none-any.whl.metadata (7.1 kB)\n",
      "Collecting typing-extensions (from shap)\n",
      "  Obtaining dependency information for typing-extensions from https://files.pythonhosted.org/packages/18/67/36e9267722cc04a6b9f15c7f3441c2363321a3ea07da7ae0c0707beb2a9c/typing_extensions-4.15.0-py3-none-any.whl.metadata\n",
      "  Using cached typing_extensions-4.15.0-py3-none-any.whl.metadata (3.3 kB)\n",
      "Collecting llvmlite<0.45,>=0.44.0dev0 (from numba>=0.54->shap)\n",
      "  Obtaining dependency information for llvmlite<0.45,>=0.44.0dev0 from https://files.pythonhosted.org/packages/e2/3b/a9a17366af80127bd09decbe2a54d8974b6d8b274b39bf47fbaedeec6307/llvmlite-0.44.0-cp312-cp312-win_amd64.whl.metadata\n",
      "  Downloading llvmlite-0.44.0-cp312-cp312-win_amd64.whl.metadata (5.0 kB)\n",
      "Collecting numpy (from shap)\n",
      "  Obtaining dependency information for numpy from https://files.pythonhosted.org/packages/36/fa/8c9210162ca1b88529ab76b41ba02d433fd54fecaf6feb70ef9f124683f1/numpy-2.2.6-cp312-cp312-win_amd64.whl.metadata\n",
      "  Downloading numpy-2.2.6-cp312-cp312-win_amd64.whl.metadata (60 kB)\n",
      "     ---------------------------------------- 0.0/60.8 kB ? eta -:--:--\n",
      "     ---------------------------------------- 60.8/60.8 kB 3.2 MB/s eta 0:00:00\n",
      "Requirement already satisfied: colorama in c:\\users\\hanna\\onedrive\\documents\\courspoly\\inf81111\\venv\\lib\\site-packages (from tqdm>=4.27.0->shap) (0.4.6)\n",
      "Requirement already satisfied: python-dateutil>=2.8.2 in c:\\users\\hanna\\onedrive\\documents\\courspoly\\inf81111\\venv\\lib\\site-packages (from pandas->shap) (2.9.0.post0)\n",
      "Requirement already satisfied: pytz>=2020.1 in c:\\users\\hanna\\onedrive\\documents\\courspoly\\inf81111\\venv\\lib\\site-packages (from pandas->shap) (2025.2)\n",
      "Requirement already satisfied: tzdata>=2022.7 in c:\\users\\hanna\\onedrive\\documents\\courspoly\\inf81111\\venv\\lib\\site-packages (from pandas->shap) (2025.2)\n",
      "Requirement already satisfied: joblib>=1.2.0 in c:\\users\\hanna\\onedrive\\documents\\courspoly\\inf81111\\venv\\lib\\site-packages (from scikit-learn->shap) (1.5.2)\n",
      "Requirement already satisfied: threadpoolctl>=3.1.0 in c:\\users\\hanna\\onedrive\\documents\\courspoly\\inf81111\\venv\\lib\\site-packages (from scikit-learn->shap) (3.6.0)\n",
      "Requirement already satisfied: six>=1.5 in c:\\users\\hanna\\onedrive\\documents\\courspoly\\inf81111\\venv\\lib\\site-packages (from python-dateutil>=2.8.2->pandas->shap) (1.17.0)\n",
      "Downloading shap-0.48.0-cp312-cp312-win_amd64.whl (545 kB)\n",
      "   ---------------------------------------- 0.0/545.3 kB ? eta -:--:--\n",
      "   ------------------ --------------------- 245.8/545.3 kB 7.4 MB/s eta 0:00:01\n",
      "   ---------------------------------------- 545.3/545.3 kB 6.9 MB/s eta 0:00:00\n",
      "Downloading slicer-0.0.8-py3-none-any.whl (15 kB)\n",
      "Downloading numba-0.61.2-cp312-cp312-win_amd64.whl (2.8 MB)\n",
      "   ---------------------------------------- 0.0/2.8 MB ? eta -:--:--\n",
      "   -------------- ------------------------- 1.0/2.8 MB 62.7 MB/s eta 0:00:01\n",
      "   ---------------------------------------  2.8/2.8 MB 44.7 MB/s eta 0:00:01\n",
      "   ---------------------------------------- 2.8/2.8 MB 36.2 MB/s eta 0:00:00\n",
      "Downloading numpy-2.2.6-cp312-cp312-win_amd64.whl (12.6 MB)\n",
      "   ---------------------------------------- 0.0/12.6 MB ? eta -:--:--\n",
      "   ------- -------------------------------- 2.2/12.6 MB 47.5 MB/s eta 0:00:01\n",
      "   -------------- ------------------------- 4.5/12.6 MB 48.3 MB/s eta 0:00:01\n",
      "   --------------------- ------------------ 6.9/12.6 MB 48.5 MB/s eta 0:00:01\n",
      "   ----------------------------- ---------- 9.2/12.6 MB 48.7 MB/s eta 0:00:01\n",
      "   ------------------------------------- -- 11.7/12.6 MB 50.4 MB/s eta 0:00:01\n",
      "   ---------------------------------------- 12.6/12.6 MB 46.9 MB/s eta 0:00:00\n",
      "Using cached tqdm-4.67.1-py3-none-any.whl (78 kB)\n",
      "Using cached cloudpickle-3.1.1-py3-none-any.whl (20 kB)\n",
      "Using cached typing_extensions-4.15.0-py3-none-any.whl (44 kB)\n",
      "Downloading llvmlite-0.44.0-cp312-cp312-win_amd64.whl (30.3 MB)\n",
      "   ---------------------------------------- 0.0/30.3 MB ? eta -:--:--\n",
      "    --------------------------------------- 0.6/30.3 MB 17.8 MB/s eta 0:00:02\n",
      "   ---- ----------------------------------- 3.4/30.3 MB 36.9 MB/s eta 0:00:01\n",
      "   -------- ------------------------------- 6.3/30.3 MB 50.2 MB/s eta 0:00:01\n",
      "   ------------ --------------------------- 9.5/30.3 MB 50.5 MB/s eta 0:00:01\n",
      "   ---------------- ----------------------- 12.8/30.3 MB 65.6 MB/s eta 0:00:01\n",
      "   --------------------- ------------------ 16.6/30.3 MB 72.6 MB/s eta 0:00:01\n",
      "   ------------------------- -------------- 19.6/30.3 MB 65.2 MB/s eta 0:00:01\n",
      "   ------------------------------ --------- 23.4/30.3 MB 72.6 MB/s eta 0:00:01\n",
      "   ----------------------------------- ---- 27.0/30.3 MB 73.1 MB/s eta 0:00:01\n",
      "   ---------------------------------------  30.3/30.3 MB 81.8 MB/s eta 0:00:01\n",
      "   ---------------------------------------  30.3/30.3 MB 81.8 MB/s eta 0:00:01\n",
      "   ---------------------------------------- 30.3/30.3 MB 54.7 MB/s eta 0:00:00\n",
      "Installing collected packages: typing-extensions, tqdm, slicer, numpy, llvmlite, cloudpickle, numba, shap\n",
      "  Attempting uninstall: numpy\n",
      "    Found existing installation: numpy 2.3.3\n",
      "    Uninstalling numpy-2.3.3:\n",
      "      Successfully uninstalled numpy-2.3.3\n",
      "Successfully installed cloudpickle-3.1.1 llvmlite-0.44.0 numba-0.61.2 numpy-2.2.6 shap-0.48.0 slicer-0.0.8 tqdm-4.67.1 typing-extensions-4.15.0\n"
     ]
    },
    {
     "name": "stderr",
     "output_type": "stream",
     "text": [
      "\n",
      "[notice] A new release of pip is available: 23.2.1 -> 25.2\n",
      "[notice] To update, run: python.exe -m pip install --upgrade pip\n"
     ]
    }
   ],
   "source": [
    "!pip install pandas\n",
    "!pip install numpy\n",
    "!pip install scikit-learn\n",
    "!pip install seaborn\n",
    "!pip install matplotlib\n",
    "!pip install plotly\n",
    "!pip install shap"
   ]
  },
  {
   "cell_type": "code",
   "execution_count": 2,
   "metadata": {
    "id": "beJjTQOt60pM"
   },
   "outputs": [
    {
     "name": "stderr",
     "output_type": "stream",
     "text": [
      "c:\\Users\\hanna\\OneDrive\\Documents\\CoursPoly\\INF81111\\venv\\Lib\\site-packages\\tqdm\\auto.py:21: TqdmWarning: IProgress not found. Please update jupyter and ipywidgets. See https://ipywidgets.readthedocs.io/en/stable/user_install.html\n",
      "  from .autonotebook import tqdm as notebook_tqdm\n"
     ]
    }
   ],
   "source": [
    "import pandas as pd\n",
    "from sklearn.preprocessing import OneHotEncoder\n",
    "from sklearn import preprocessing\n",
    "import seaborn as sns\n",
    "import numpy as np\n",
    "import matplotlib.pyplot as plt\n",
    "import plotly.express as px\n",
    "import plotly.graph_objects as go\n",
    "from plotly.subplots import make_subplots\n",
    "from sklearn import linear_model\n",
    "import shap"
   ]
  },
  {
   "cell_type": "markdown",
   "metadata": {
    "id": "xe5Ms4DINc8u"
   },
   "source": [
    "### Lecture des données"
   ]
  },
  {
   "cell_type": "code",
   "execution_count": 3,
   "metadata": {
    "id": "m_QcX1llNT2d"
   },
   "outputs": [],
   "source": [
    "df = pd.read_csv('data.csv')"
   ]
  },
  {
   "cell_type": "markdown",
   "metadata": {
    "id": "Txn5hmVWBSzF"
   },
   "source": [
    "Le but de ce notebook est d'effectuer le prétraitement du dataset [HousePricePrediction](https://docs.google.com/spreadsheets/d/1caaR9pT24GNmq3rDQpMiIMJrmiTGarbs/edit#gid=1150341366) qui pourra être par la suite être utilisé pour entraîner un modèle de prédiction de prix de maisons."
   ]
  },
  {
   "cell_type": "markdown",
   "metadata": {
    "id": "kyYKhZfI60pN"
   },
   "source": [
    "## Préparation des données\n",
    "\n",
    "Plusieurs étapes sont nécessaires pour préparer un dataset pour la fouille des données\n",
    "- **Nettoyage des données** :\n",
    "    - Suppression des attributs inutiles\n",
    "    - Gestion des valeurs manquantes\n",
    "    - Gestion des valeurs aberrantes\n",
    "- **Transformation des données** :\n",
    "    - Encodage des données\n",
    "    - Normalisation des données\n",
    "- **Sélection des attributs** :\n",
    "    - Suppression des attributs les plus fortement corrélés"
   ]
  },
  {
   "cell_type": "markdown",
   "metadata": {
    "id": "5SXXhu9S60pO"
   },
   "source": [
    "<a id=\"exploration-des-donnees\"></a>\n",
    "## 1. Exploration des données (5 points)"
   ]
  },
  {
   "cell_type": "markdown",
   "metadata": {
    "id": "fPtQqe4J60pO"
   },
   "source": [
    "Nous vous avons fourni le fichier *data.csv* avec l'exécution de la deuxième cellule. Il contient l'ensemble des données. Chaque ligne contient les données d'une vente. La description des attributs du dataset est la suivante:\n",
    "\n",
    "| # | Feature Name | Description |\n",
    "|---|--------------|-------------|\n",
    "| 1 | Id           | Numéro de vente / To count the records. |\n",
    "| 2 | MSSubClass   | Type de logement / Identifies the type of dwelling involved in the sale. |\n",
    "| 3 | MSZoning     | Zonage / Identifies the general zoning classification of the sale. |\n",
    "| 4 | LotArea      | Superficie du logement / Lot size in square feet. |\n",
    "| 5 | LotConfig    | Configuration du logement / Configuration of the lot |\n",
    "| 6 | BldgType     | Type de logement / Type of dwelling |\n",
    "| 7 | OverallCond  | Etat général / Rates the overall condition of the house |\n",
    "| 8 | YearBuilt    | Année de contruction / Original construction year |\n",
    "| 9 | YearRemodAdd | Année de rénovation / Remodel date (same as construction date if no remodeling or additions). |\n",
    "| 10| Exterior1st  | Type de revêtement extérieur / Exterior covering on house |\n",
    "| 11| BsmtFinSF2   | Surface de vie / Type 2 finished square feet. |\n",
    "| 12| TotalBsmtSF  | Surface totale de la base / Total square feet of basement area |\n",
    "| 13| SalePrice    | Prix de vente à prédire / To be predicted |\n",
    "\n",
    "On visualise le dataset pour avoir une idée de ce qu'il contient et des prétraitements à effectuer."
   ]
  },
  {
   "cell_type": "markdown",
   "metadata": {
    "id": "qaalN_p760pO"
   },
   "source": [
    "### 1.1 - Question 1 (2.5 points)\n",
    "\n",
    "**Combien d'observations contient le dataset ? Quelles sont les types des attributs du dataset ?**"
   ]
  },
  {
   "cell_type": "code",
   "execution_count": 4,
   "metadata": {
    "id": "srCKpbVl60pO"
   },
   "outputs": [
    {
     "data": {
      "text/plain": [
       "37947"
      ]
     },
     "execution_count": 4,
     "metadata": {},
     "output_type": "execute_result"
    }
   ],
   "source": [
    "#TODO\n",
    "df.size"
   ]
  },
  {
   "cell_type": "code",
   "execution_count": 5,
   "metadata": {},
   "outputs": [
    {
     "data": {
      "text/plain": [
       "Id                int64\n",
       "MSSubClass        int64\n",
       "MSZoning         object\n",
       "LotArea           int64\n",
       "LotConfig        object\n",
       "BldgType         object\n",
       "OverallCond       int64\n",
       "YearBuilt         int64\n",
       "YearRemodAdd      int64\n",
       "Exterior1st      object\n",
       "BsmtFinSF2      float64\n",
       "TotalBsmtSF     float64\n",
       "SalePrice       float64\n",
       "dtype: object"
      ]
     },
     "execution_count": 5,
     "metadata": {},
     "output_type": "execute_result"
    }
   ],
   "source": [
    "df.dtypes"
   ]
  },
  {
   "cell_type": "markdown",
   "metadata": {
    "id": "iopxmVPF60pP"
   },
   "source": [
    "### 1.2 - Question 2 (2.5 points)\n",
    "\n",
    "**Quelles sont les valeurs uniques des attributs de type `object` ?**"
   ]
  },
  {
   "cell_type": "code",
   "execution_count": 6,
   "metadata": {
    "id": "akNtIgGE60pP"
   },
   "outputs": [
    {
     "data": {
      "text/html": [
       "<div>\n",
       "<style scoped>\n",
       "    .dataframe tbody tr th:only-of-type {\n",
       "        vertical-align: middle;\n",
       "    }\n",
       "\n",
       "    .dataframe tbody tr th {\n",
       "        vertical-align: top;\n",
       "    }\n",
       "\n",
       "    .dataframe thead th {\n",
       "        text-align: right;\n",
       "    }\n",
       "</style>\n",
       "<table border=\"1\" class=\"dataframe\">\n",
       "  <thead>\n",
       "    <tr style=\"text-align: right;\">\n",
       "      <th></th>\n",
       "      <th>MSZoning</th>\n",
       "      <th>LotConfig</th>\n",
       "      <th>BldgType</th>\n",
       "      <th>Exterior1st</th>\n",
       "    </tr>\n",
       "  </thead>\n",
       "  <tbody>\n",
       "    <tr>\n",
       "      <th>0</th>\n",
       "      <td>RL</td>\n",
       "      <td>Inside</td>\n",
       "      <td>1Fam</td>\n",
       "      <td>VinylSd</td>\n",
       "    </tr>\n",
       "    <tr>\n",
       "      <th>1</th>\n",
       "      <td>RL</td>\n",
       "      <td>FR2</td>\n",
       "      <td>1Fam</td>\n",
       "      <td>MetalSd</td>\n",
       "    </tr>\n",
       "    <tr>\n",
       "      <th>3</th>\n",
       "      <td>RL</td>\n",
       "      <td>Corner</td>\n",
       "      <td>1Fam</td>\n",
       "      <td>Wd Sdng</td>\n",
       "    </tr>\n",
       "    <tr>\n",
       "      <th>4</th>\n",
       "      <td>RL</td>\n",
       "      <td>FR2</td>\n",
       "      <td>1Fam</td>\n",
       "      <td>VinylSd</td>\n",
       "    </tr>\n",
       "    <tr>\n",
       "      <th>7</th>\n",
       "      <td>RL</td>\n",
       "      <td>Corner</td>\n",
       "      <td>1Fam</td>\n",
       "      <td>HdBoard</td>\n",
       "    </tr>\n",
       "    <tr>\n",
       "      <th>...</th>\n",
       "      <td>...</td>\n",
       "      <td>...</td>\n",
       "      <td>...</td>\n",
       "      <td>...</td>\n",
       "    </tr>\n",
       "    <tr>\n",
       "      <th>2716</th>\n",
       "      <td>FV</td>\n",
       "      <td>Corner</td>\n",
       "      <td>1Fam</td>\n",
       "      <td>Wd Sdng</td>\n",
       "    </tr>\n",
       "    <tr>\n",
       "      <th>2798</th>\n",
       "      <td>RM</td>\n",
       "      <td>FR3</td>\n",
       "      <td>1Fam</td>\n",
       "      <td>AsbShng</td>\n",
       "    </tr>\n",
       "    <tr>\n",
       "      <th>2892</th>\n",
       "      <td>C (all)</td>\n",
       "      <td>Inside</td>\n",
       "      <td>2fmCon</td>\n",
       "      <td>WdShing</td>\n",
       "    </tr>\n",
       "    <tr>\n",
       "      <th>2904</th>\n",
       "      <td>NaN</td>\n",
       "      <td>Inside</td>\n",
       "      <td>1Fam</td>\n",
       "      <td>CBlock</td>\n",
       "    </tr>\n",
       "    <tr>\n",
       "      <th>2908</th>\n",
       "      <td>RL</td>\n",
       "      <td>Corner</td>\n",
       "      <td>Duplex</td>\n",
       "      <td>Plywood</td>\n",
       "    </tr>\n",
       "  </tbody>\n",
       "</table>\n",
       "<p>195 rows × 4 columns</p>\n",
       "</div>"
      ],
      "text/plain": [
       "     MSZoning LotConfig BldgType Exterior1st\n",
       "0          RL    Inside     1Fam     VinylSd\n",
       "1          RL       FR2     1Fam     MetalSd\n",
       "3          RL    Corner     1Fam     Wd Sdng\n",
       "4          RL       FR2     1Fam     VinylSd\n",
       "7          RL    Corner     1Fam     HdBoard\n",
       "...       ...       ...      ...         ...\n",
       "2716       FV    Corner     1Fam     Wd Sdng\n",
       "2798       RM       FR3     1Fam     AsbShng\n",
       "2892  C (all)    Inside   2fmCon     WdShing\n",
       "2904      NaN    Inside     1Fam      CBlock\n",
       "2908       RL    Corner   Duplex     Plywood\n",
       "\n",
       "[195 rows x 4 columns]"
      ]
     },
     "execution_count": 6,
     "metadata": {},
     "output_type": "execute_result"
    }
   ],
   "source": [
    "#TODO\n",
    "df.select_dtypes('object').drop_duplicates()\n"
   ]
  },
  {
   "cell_type": "markdown",
   "metadata": {
    "id": "ft67cmEY60pQ"
   },
   "source": [
    "<a id=\"nettoyage-des-donnees\"></a>\n",
    "## 2. Nettoyage des données (30 points)"
   ]
  },
  {
   "cell_type": "markdown",
   "metadata": {
    "id": "eEAKIo8W60pQ"
   },
   "source": [
    "<a id=\"suppression-des-attributs-inutiles\"></a>\n",
    "### 2.1 Suppression des attributs inutiles"
   ]
  },
  {
   "cell_type": "markdown",
   "metadata": {
    "id": "njGJm6PHiiAK"
   },
   "source": [
    "### 2.1.1 - Question 3 (5 points)\n",
    "\n",
    "**Pourquoi on peut supprimer l'attribut `Id` dans le cas de ce TP? Effectuez cette suppression.**"
   ]
  },
  {
   "cell_type": "code",
   "execution_count": 7,
   "metadata": {},
   "outputs": [
    {
     "data": {
      "text/html": [
       "<div>\n",
       "<style scoped>\n",
       "    .dataframe tbody tr th:only-of-type {\n",
       "        vertical-align: middle;\n",
       "    }\n",
       "\n",
       "    .dataframe tbody tr th {\n",
       "        vertical-align: top;\n",
       "    }\n",
       "\n",
       "    .dataframe thead th {\n",
       "        text-align: right;\n",
       "    }\n",
       "</style>\n",
       "<table border=\"1\" class=\"dataframe\">\n",
       "  <thead>\n",
       "    <tr style=\"text-align: right;\">\n",
       "      <th></th>\n",
       "      <th>Id</th>\n",
       "      <th>MSSubClass</th>\n",
       "      <th>MSZoning</th>\n",
       "      <th>LotArea</th>\n",
       "      <th>LotConfig</th>\n",
       "      <th>BldgType</th>\n",
       "      <th>OverallCond</th>\n",
       "      <th>YearBuilt</th>\n",
       "      <th>YearRemodAdd</th>\n",
       "      <th>Exterior1st</th>\n",
       "      <th>BsmtFinSF2</th>\n",
       "      <th>TotalBsmtSF</th>\n",
       "      <th>SalePrice</th>\n",
       "    </tr>\n",
       "  </thead>\n",
       "  <tbody>\n",
       "    <tr>\n",
       "      <th>2868</th>\n",
       "      <td>2868</td>\n",
       "      <td>50</td>\n",
       "      <td>RL</td>\n",
       "      <td>8707</td>\n",
       "      <td>FR2</td>\n",
       "      <td>1Fam</td>\n",
       "      <td>5</td>\n",
       "      <td>1924</td>\n",
       "      <td>1950</td>\n",
       "      <td>Wd Sdng</td>\n",
       "      <td>0.0</td>\n",
       "      <td>1093.0</td>\n",
       "      <td>NaN</td>\n",
       "    </tr>\n",
       "  </tbody>\n",
       "</table>\n",
       "</div>"
      ],
      "text/plain": [
       "        Id  MSSubClass MSZoning  LotArea LotConfig BldgType  OverallCond  \\\n",
       "2868  2868          50       RL     8707       FR2     1Fam            5   \n",
       "\n",
       "      YearBuilt  YearRemodAdd Exterior1st  BsmtFinSF2  TotalBsmtSF  SalePrice  \n",
       "2868       1924          1950     Wd Sdng         0.0       1093.0        NaN  "
      ]
     },
     "execution_count": 7,
     "metadata": {},
     "output_type": "execute_result"
    }
   ],
   "source": [
    "df.sample()"
   ]
  },
  {
   "cell_type": "markdown",
   "metadata": {},
   "source": [
    "#Réponse"
   ]
  },
  {
   "cell_type": "code",
   "execution_count": 8,
   "metadata": {
    "id": "LS6YJCwI60pQ"
   },
   "outputs": [],
   "source": [
    "#TODO\n",
    "df.drop('Id',axis=1,inplace=True)"
   ]
  },
  {
   "cell_type": "markdown",
   "metadata": {
    "id": "cWPPDvJx60pQ"
   },
   "source": [
    "<a id=\"gestion-des-valeurs-manquantes\"></a>\n",
    "### 2.2 Gestion des valeurs manquantes\n",
    "\n",
    "Pour gérer les valeurs manquantes, plusieurs solutions s'offrent à nous :\n",
    "- Remplacer par la valeur la plus fréquente (le mode)\n",
    "- Remplacer par la valeur moyenne/médiane\n",
    "- Suppression des lignes contenant des valeurs manquantes\n",
    "\n",
    "Pour ce TP, nous optons pour la dernière option."
   ]
  },
  {
   "cell_type": "markdown",
   "metadata": {
    "id": "ijKA36QIhN9O"
   },
   "source": [
    "#### 2.2.1 - Question 4 (2.5 points)\n",
    "\n",
    "**Quels sont les attributs qui contiennent des valeurs manquantes ?**"
   ]
  },
  {
   "cell_type": "code",
   "execution_count": 9,
   "metadata": {
    "id": "sPdUgLoC60pQ"
   },
   "outputs": [
    {
     "data": {
      "text/plain": [
       "MSSubClass      False\n",
       "MSZoning         True\n",
       "LotArea         False\n",
       "LotConfig       False\n",
       "BldgType        False\n",
       "OverallCond     False\n",
       "YearBuilt       False\n",
       "YearRemodAdd    False\n",
       "Exterior1st      True\n",
       "BsmtFinSF2       True\n",
       "TotalBsmtSF      True\n",
       "SalePrice        True\n",
       "dtype: bool"
      ]
     },
     "execution_count": 9,
     "metadata": {},
     "output_type": "execute_result"
    }
   ],
   "source": [
    "#TODO\n",
    "df.isna().any()"
   ]
  },
  {
   "cell_type": "markdown",
   "metadata": {
    "id": "cD3p7SzPhvJr"
   },
   "source": [
    "#### 2.2.2 - Question 5 (2.5 points)\n",
    "\n",
    "On peut alors gérer les valeurs manquantes colonne par colonne. L'attribut `SalePrice` n'est pas pris en considération car les valeurs manquantes sont justement les valeurs que nous voulons prédire.\n",
    "\n",
    "**Supprimer les lignes contenant les valeurs manquantes. Implémentez la fonction `delete_missing_values` qui retire ces données**."
   ]
  },
  {
   "cell_type": "code",
   "execution_count": 10,
   "metadata": {
    "id": "lB8c_BHB60pS"
   },
   "outputs": [],
   "source": [
    "def delete_missing_values(dataset):\n",
    "    # \"\"\"\n",
    "    # This function deletes row whom a value is missing.\n",
    "\n",
    "    # :param dataset: ensemble des données\n",
    "    # :return:\n",
    "    #   dataset traitée\n",
    "    # \"\"\"\n",
    "  df = dataset\n",
    "  df = df.dropna()\n",
    "  return df"
   ]
  },
  {
   "cell_type": "code",
   "execution_count": 11,
   "metadata": {
    "id": "hOQyhy5Bzeea"
   },
   "outputs": [],
   "source": [
    "df = delete_missing_values(df)"
   ]
  },
  {
   "cell_type": "markdown",
   "metadata": {
    "id": "Dv7C76Pt60pR"
   },
   "source": [
    "Les données manquantes pour la colonne `SalePrice` sont celles du dataset de test. On laisse donc ces valeurs manquantes car on veut appliquer le même prétraitement sur les données de test."
   ]
  },
  {
   "cell_type": "markdown",
   "metadata": {
    "id": "nd7i82HySOTw"
   },
   "source": [
    "### 2.2.3 - Question 6 (10 points)\n",
    "\n",
    "On veut néanmoins que les données d'entrainement suivent une distribution gaussienne.\n",
    "\n",
    "**Implémenter le fonction `plot_hist`. Cette fonction doit permettre d'afficher la distribution des valeurs de l'attribut `SalePrice` ainsi que la loi normale de même moyenne et variance.**"
   ]
  },
  {
   "cell_type": "code",
   "execution_count": 22,
   "metadata": {
    "id": "LJVGJ9rm60pR"
   },
   "outputs": [],
   "source": [
    "from scipy.stats import norm\n",
    "def plot_hist(prices):\n",
    "    # \"\"\"\n",
    "    # Affiche la distribution du prix de vente\n",
    "\n",
    "    # :param prices: ensemble des prix.\n",
    "    # \"\"\"\n",
    "    plt.figure(figsize=(10, 6))\n",
    "    # calcul std et mean\n",
    "    mean = np.mean(prices)\n",
    "    std = np.std(prices)\n",
    "    \n",
    "    # Plot les points de données\n",
    "    plt.hist(prices, bins=30, density=True, alpha=0.6, color='blue')\n",
    "    \n",
    "    # Plot la courbe de distribution normale\n",
    "    x = np.linspace(min(prices), max(prices), 100)\n",
    "    p = norm.pdf(x, mean, std)\n",
    "    \n",
    "    #  Plot la courbe de distribution normale\n",
    "    plt.plot(x, p, 'r-', lw=2)\n",
    "    \n",
    "    #lables et title\n",
    "    plt.xlabel('SalePrice')\n",
    "    plt.ylabel('Density')\n",
    "    plt.title('SalePrice Distribution et ca loi normale')\n",
    "    plt.show()\n",
    "    "
   ]
  },
  {
   "cell_type": "code",
   "execution_count": 23,
   "metadata": {},
   "outputs": [
    {
     "data": {
      "image/png": "[encoded data removed]",
      "text/plain": [
       "<Figure size 1000x600 with 1 Axes>"
      ]
     },
     "metadata": {},
     "output_type": "display_data"
    }
   ],
   "source": [
    "plot_hist(df['SalePrice'])"
   ]
  },
  {
   "cell_type": "markdown",
   "metadata": {
    "id": "niiWCCwX60pS"
   },
   "source": [
    "Vous devez obtenir une distribution des valeurs de `SalePrice` proches d'une distribution normale mais légèrement asymétrique. On peut alors appliquer une transformation logarithmique pour approcher d'une distribution normale symétrique.\n",
    "\n",
    "**Effectuer cette transformation sur notre ensemble de données.**"
   ]
  },
  {
   "cell_type": "code",
   "execution_count": 24,
   "metadata": {
    "id": "zDakO5Is60pS"
   },
   "outputs": [],
   "source": [
    "#TODO\n",
    "df['SalePrice'] = np.log(df['SalePrice'])"
   ]
  },
  {
   "cell_type": "code",
   "execution_count": 25,
   "metadata": {
    "id": "CVO6QYKK_msM"
   },
   "outputs": [
    {
     "data": {
      "image/png": "[encoded data removed]",
      "text/plain": [
       "<Figure size 1000x600 with 1 Axes>"
      ]
     },
     "metadata": {},
     "output_type": "display_data"
    }
   ],
   "source": [
    "plot_hist(df['SalePrice'])"
   ]
  },
  {
   "cell_type": "code",
   "execution_count": 26,
   "metadata": {},
   "outputs": [],
   "source": [
    "# Cette copie va servir plus tard pour la question 6 (IQR)\n",
    "df_order1 = df.copy()"
   ]
  },
  {
   "cell_type": "markdown",
   "metadata": {
    "id": "Zv5pOxkH60pT"
   },
   "source": [
    "<a id=\"detection-des-valeurs-aberrantes\"></a>\n",
    "### 2.3 Détection des valeurs aberrantes"
   ]
  },
  {
   "cell_type": "markdown",
   "metadata": {
    "id": "96toDgSp60pT"
   },
   "source": [
    "En pratique, la méthode de détection d'une valeur aberrante nécessite de se poser les questions suivantes:\n",
    "- Quelles valeurs seraient incohérentes pour chaque colonne ?\n",
    "- Quelles valeurs peuvent être problématiques pour l'utilisation de ces données ? Exemple: pour une régression linéaire, on préfère avoir des valeurs distribuées suivant une loi normale.\n",
    "\n",
    "Avec ces éléments, on peut:\n",
    "- Fixer des seuils de tolérance pour les valeurs aberrantes\n",
    "- Utiliser des algorithmes de détection de valeurs aberrantes (ex: clustering, IRQ, [QTest](https://plotly.com/python/v3/outlier-test/), ...)\n",
    "\n",
    "A noter que suivant les méthodes, les valeurs détectées comme aberrantes peuvent être différentes.\n",
    "\n",
    "La méthode IRQ fait l'objet d'une question, en fin de ce notebook."
   ]
  },
  {
   "cell_type": "markdown",
   "metadata": {
    "id": "TwgcO0k9Jjiw"
   },
   "source": [
    "### 2.3.1 Question 7 (10 points)\n",
    "\n",
    "Ici comme nous allons réaliser une régression linéaire, nous allons visuellement voir si certains points s'écartent largement de la droite de régression.\n",
    "\n",
    "On sait que l'on veut effectuer une régression linéaire pour prédire `SalePrice`. On peut donc visualiser les valeurs de chaque attribut en fonction de `SalePrice` pour détecter la présence de valeurs aberrantes.\n",
    "\n",
    "**Implémenter la fonction `plot_line`. Elle doit permettre de visualiser la relation entre un attribut donné et `SalePrice`.**"
   ]
  },
  {
   "cell_type": "code",
   "execution_count": null,
   "metadata": {
    "id": "zGLszIizKSYO"
   },
   "outputs": [],
   "source": [
    "def plot_line(attr):\n",
    "    \"\"\"\n",
    "    Affiche la relation entre attr et SalePrice\n",
    "\n",
    "    :param attr: attribut à comparer à SalePrice\n",
    "    \"\"\"\n",
    "    pass"
   ]
  },
  {
   "cell_type": "markdown",
   "metadata": {
    "id": "Iq_0y4OeK_Pm"
   },
   "source": [
    "**Afficher les relations de tous les attributs avec `SalePrice`. Peut-on y déceler des valeurs aberrantes ?**"
   ]
  },
  {
   "cell_type": "code",
   "execution_count": null,
   "metadata": {
    "id": "3EPDHuUJZ1a4"
   },
   "outputs": [],
   "source": [
    "#TODO"
   ]
  },
  {
   "cell_type": "markdown",
   "metadata": {},
   "source": [
    "**À ce stade, il s'agit uniquement de détecter la présence éventuelle de valeurs aberrantes dans les données.**\n",
    "**Aucune action de traitement ou de remplacement n'est demandée pour le moment**"
   ]
  },
  {
   "cell_type": "markdown",
   "metadata": {
    "id": "BrnapsJb60pV"
   },
   "source": [
    "## 3. Transformation des données (10 points)"
   ]
  },
  {
   "cell_type": "markdown",
   "metadata": {
    "id": "PZKsU-2t60pV"
   },
   "source": [
    "### 3.1 Encodage des attributs de type `object`"
   ]
  },
  {
   "cell_type": "markdown",
   "metadata": {
    "id": "MElC6Gao60pV"
   },
   "source": [
    "Les attributs de type `object` étant catégoriques (voire partie 1), on peut effectuer un `one hot encoding` de ces attributs. `Pandas` permet d'effectuer cela avec la fonction `get_dummies()`. Cela nous permettra d'obtenir un dataset contenant uniquement des attributs de type `int` ou `float`.\n"
   ]
  },
  {
   "cell_type": "markdown",
   "metadata": {
    "id": "JHcKIIn_xcbg"
   },
   "source": [
    "#### 3.1.1 Question 8 (5 points)\n",
    "\n",
    "**Encodez les attributs de type `object` avec un `one hot encoding`**"
   ]
  },
  {
   "cell_type": "code",
   "execution_count": null,
   "metadata": {
    "id": "4oTBcJTT60pV"
   },
   "outputs": [],
   "source": [
    "#TODO"
   ]
  },
  {
   "cell_type": "markdown",
   "metadata": {
    "id": "Nern4lpg60pW"
   },
   "source": [
    "### 3.2 Normalisation des données"
   ]
  },
  {
   "cell_type": "markdown",
   "metadata": {
    "id": "WharCiE560pW"
   },
   "source": [
    "Pour faciliter l'entraînement du modèle, on peut normaliser les données. `sklearn` permet d'effectuer cela avec les fonctions suivantes :\n",
    "\n",
    "*   `StandardScaler()` normalise les données en soustrayant la moyenne et en divisant par l'écart-type\n",
    "*   `MinMaxScaler()` normalise les données en les ramenant entre 0 et 1.\n",
    "\n",
    "Dans la suite de ce TP, nous utiliserons la fonction `StandardScaler()`."
   ]
  },
  {
   "cell_type": "code",
   "execution_count": null,
   "metadata": {
    "id": "tGl8KxkwXyC2"
   },
   "outputs": [],
   "source": [
    "# A utiliser dans la partie 5.2\n",
    "mu_sale_price = df[\"SalePrice\"].mean()\n",
    "sigma_sale_price = df[\"SalePrice\"].std()"
   ]
  },
  {
   "cell_type": "markdown",
   "metadata": {
    "id": "q0_AYgbsxzdY"
   },
   "source": [
    "#### 3.2.1 Question 9 (5 points)\n",
    "\n",
    "**Implémenter la fonction `normalize`. Elle doit réaliser la normalisation des données.**"
   ]
  },
  {
   "cell_type": "code",
   "execution_count": null,
   "metadata": {
    "id": "JsJz5irG60pW"
   },
   "outputs": [],
   "source": [
    "def normalize(dataset):\n",
    "    \"\"\"\n",
    "    Normalise les données du dataset.\n",
    "\n",
    "    :param dataset: ensemble des données\n",
    "    :return:\n",
    "      dataset traitée\n",
    "    \"\"\"\n",
    "    pass"
   ]
  },
  {
   "cell_type": "code",
   "execution_count": null,
   "metadata": {
    "id": "2amj4-7mcPjS"
   },
   "outputs": [],
   "source": [
    "df = normalize(df)"
   ]
  },
  {
   "cell_type": "markdown",
   "metadata": {
    "id": "E0AY3k-a60pX"
   },
   "source": [
    "## 4. Sélection des attributs corrélées (15 points)"
   ]
  },
  {
   "cell_type": "markdown",
   "metadata": {
    "id": "-QdxBuVE60pX"
   },
   "source": [
    "### 4.1 Suppression des attributs corrélées"
   ]
  },
  {
   "cell_type": "markdown",
   "metadata": {
    "id": "tqQZacRb60pX"
   },
   "source": [
    "Pour améliorer la qualité de la prédiction, nous devons prendre en compte la corrélation entre attributs. L'objectif est donc de supprimer les attributs les plus fortement corrélées entre eux.\n",
    "\n",
    "Pour ce faire, vous disposez des fonctions suivantes\n",
    "\n",
    "* `corr()` de `Pandas` qui calcule la matrice de corrélation\n",
    "* `heatmap()` de `seaborn` qui permet de visualiser la matrice de corrélation\n"
   ]
  },
  {
   "cell_type": "markdown",
   "metadata": {
    "id": "X_vrfq-hyJdL"
   },
   "source": [
    "#### 4.1.1 Question 10 (10 points)\n",
    "\n",
    "**Implémenter la fonction `display_corr_matrix`. Elle doit permettre d'afficher la matrice de corrélation entre les différents attributs de nos données après normalisation des données.**"
   ]
  },
  {
   "cell_type": "code",
   "execution_count": null,
   "metadata": {
    "id": "LAM9uYXW60pX"
   },
   "outputs": [],
   "source": [
    "def display_corr_matrix(dataset)\n",
    "    \"\"\"\n",
    "    Créer et affiche la matrice de corrélation des attributs liés au dataset.\n",
    "\n",
    "    :param dataset: ensemble des données\n",
    "    \"\"\""
   ]
  },
  {
   "cell_type": "code",
   "execution_count": null,
   "metadata": {
    "id": "rQL8kIMfaVEk"
   },
   "outputs": [],
   "source": [
    "display_corr_matrix(df)"
   ]
  },
  {
   "cell_type": "markdown",
   "metadata": {
    "id": "9-nwjR6E0W44"
   },
   "source": [
    "#### 4.1.2 Question 11 (5 points)\n",
    "\n",
    "On peut alors choisir de supprimer les attributs qui sont fortement corrélées entre eux en définissant un seuil. Fixons ce seuil à 0.7.\n",
    "\n",
    "**Quels sont les attributs fortement correlés selon le critère ci-dessus ? Supprimez ces attributs et affichez la nouvelle matrice de corrélation.**"
   ]
  },
  {
   "cell_type": "code",
   "execution_count": null,
   "metadata": {
    "id": "joIHvsMX60pX"
   },
   "outputs": [],
   "source": [
    "#TODO"
   ]
  },
  {
   "cell_type": "markdown",
   "metadata": {
    "id": "GQpercMc60pd"
   },
   "source": [
    "## 5. Entrainement d'un modèle de régression linéaire (30 points)"
   ]
  },
  {
   "cell_type": "markdown",
   "metadata": {
    "id": "ORdHTRsB60pd"
   },
   "source": [
    "### 5.1 Rappel du concept"
   ]
  },
  {
   "cell_type": "markdown",
   "metadata": {
    "id": "ELjDQ7Le60pd"
   },
   "source": [
    "La régression linéaire consiste à trouver une fonction affine qui minimise la somme des carrés des erreurs. La fonction affine est définie par la formule suivante :\n",
    "$$ f(x) = \\beta_0 + \\beta_1^T x $$\n",
    "Nous tentons de trouver les paramètres $\\beta_0$ et $\\beta_1$ qui minimisent $\\sum_{i=1}^n (f(x_i) - y_i)^2=||y-X\\beta||^2$ où $X$ est la matrice des données fournies au modèle et $y$ le vecteur des `SalePrice`."
   ]
  },
  {
   "cell_type": "markdown",
   "metadata": {
    "id": "p7h64C2F60pd"
   },
   "source": [
    "On veut trouver le minimum de cette fonction. On va utiliser `RidgeRegression` de `sklearn` pour trouver les paramètres $\\beta_0$ et $\\beta_1$. Ce module utilise la méthode des moindres carrés (`numpy.linalg.lstsq`) pour trouver les paramètres $\\beta_0$ et $\\beta_1$."
   ]
  },
  {
   "cell_type": "markdown",
   "metadata": {
    "id": "Wso4UXP260pd"
   },
   "source": [
    "### 5.2 Application"
   ]
  },
  {
   "cell_type": "markdown",
   "metadata": {
    "id": "mY-e46r71ucY"
   },
   "source": [
    "#### 5.2.1 Question 12 (5 points)\n",
    "\n",
    "Après avoir effectué le prétraitement, on peut commencer par séparer les données en un ensemble d'entraînement et un ensemble de test. Pour cela, les 1460 premières lignes contiennent les données d'entrainement. On peut ainsi séparer les données en deux ensembles.\n",
    "\n",
    "**Compléter la structure suivante afin de diviser les données en deux sous-ensembles.**"
   ]
  },
  {
   "cell_type": "code",
   "execution_count": null,
   "metadata": {
    "id": "pMK22chk60pe"
   },
   "outputs": [],
   "source": [
    "#TODO\n",
    "data_train = {\"x\": pass, \"y\": pass, \"df\": pass}\n",
    "data_pred = {\"x\": pass, \"df\": pass}"
   ]
  },
  {
   "cell_type": "markdown",
   "metadata": {
    "id": "yl68_rKE60pe"
   },
   "source": [
    "#### 5.2.2 Question 13 (7.5 points)\n",
    "\n",
    "Une fois cette séparation faite, on peut utiliser `RidgeRegression` pour effectuer la régression linéaire avec pénalisation de la norme L2.\n",
    "\n",
    "**Compléter la fonction `ridge_regression`. Elle doit implémenter l'ensemble de la régression.**\n",
    "\n",
    "*Pour cette question, vous devez retourner les coefficients de la regression linéaire. De plus, cette fonction doit modifier le paramètre `data_pred` en y ajoutant les valeurs prédites.*"
   ]
  },
  {
   "cell_type": "markdown",
   "metadata": {},
   "source": [
    "**Remarques**:\n",
    "- La fonction doit retourner un dictionnaire dont les clés sont les noms des attributs et les valeurs, les coefficients correspondants.\n",
    "- Dans `data_pred`, ajoutez deux colonnes : une première contenant les prédictions (sortie du modèle), et une deuxième avec les prédictions remises à l’échelle originale des prix, en inversant la standardisation et la transformation logarithmique."
   ]
  },
  {
   "cell_type": "code",
   "execution_count": null,
   "metadata": {
    "id": "j2ZKD-jN60pe"
   },
   "outputs": [],
   "source": [
    "def ridge_regression(data_train, data_pred):\n",
    "    \"\"\"\n",
    "    Réaliser la prédiction selon la régression de Rigde.\n",
    "\n",
    "    :param data_train: données d'entrainement\n",
    "    :param data_pred: données de prédiction\n",
    "    \n",
    "    :return:\n",
    "      coefficients de la régression\n",
    "    \"\"\"\n",
    "    data_pred[\"y\"] = #TODO\n",
    "    pass"
   ]
  },
  {
   "cell_type": "code",
   "execution_count": null,
   "metadata": {
    "id": "zmCcvTKU1TQQ"
   },
   "outputs": [],
   "source": [
    " reg = ridge_regression(data_train, data_pred)\n",
    " data_pred[\"y\"]"
   ]
  },
  {
   "cell_type": "markdown",
   "metadata": {
    "id": "0YqmB6786dJ7"
   },
   "source": [
    "#### 5.2.3 Question 14 (5 points)\n",
    "\n",
    "**À l’aide d’un histogramme, comparez la distribution des prix prédits à celle des données d’entraînement, en vous assurant que les deux sont représentées à l’échelle originale des prix (c’est-à-dire sans transformation logarithmique ni standardisation). Commentez brièvement.**"
   ]
  },
  {
   "cell_type": "code",
   "execution_count": null,
   "metadata": {
    "id": "sFjYYGaz60pf"
   },
   "outputs": [],
   "source": [
    "#TODO"
   ]
  },
  {
   "cell_type": "markdown",
   "metadata": {
    "id": "be4k6q0-5Siq"
   },
   "source": [
    "### 5.3. Sélection des attributs importants\n",
    "#### 5.3.1 Question 15 (5 points)\n",
    "\n",
    "Une fois la prédiction obtenue, on peut maintenant mesurer l'importance de chaque attribut dans la prédicition en traçant les coefficients de la régression linéaire.\n",
    "\n",
    "**Quels sont les dix attributs ayant le plus d'impact dans la prédiction ?**\n"
   ]
  },
  {
   "cell_type": "code",
   "execution_count": null,
   "metadata": {
    "id": "JCGi6vQI60pg"
   },
   "outputs": [],
   "source": [
    "#TODO"
   ]
  },
  {
   "cell_type": "markdown",
   "metadata": {
    "id": "uXVWypfjeahG"
   },
   "source": [
    "#### 5.3.2 Question 16 (7.5 points)\n",
    "\n",
    "Cette dernière méthode n'est pas nécessairement une bonne mesure de l'importance d'un attribut. On peut utiliser la méthode SHAP (SHapley Additive exPlanations) pour effectuer la sélection des attributs.\n",
    "\n",
    "**Les dix attributs ayant le plus d'impact dans la prédiction pour cette mesure sont-ils les mêmes que ceux de la question précédente ? Donnez une interprétation comparative de ces deux résultats**\n"
   ]
  },
  {
   "cell_type": "code",
   "execution_count": null,
   "metadata": {
    "id": "mFBr7mdXgwef"
   },
   "outputs": [],
   "source": [
    "#TODO"
   ]
  },
  {
   "cell_type": "markdown",
   "metadata": {
    "id": "OEkbTIvZ59aP"
   },
   "source": [
    "## 6. Méthode des écarts interquartiles ou IRQ (10 points)"
   ]
  },
  {
   "cell_type": "markdown",
   "metadata": {
    "id": "egC3g-Pk60pT"
   },
   "source": [
    "On peut également détecter les valeurs aberrantes en affichant un boxplot de chaque colonne. On considère les valeurs comme aberrantes si elles sont situées en dehors de l'intervalle [Q1 - α * IQR, Q3 + α * IQR] où\n",
    "* Q1 et Q3 sont les quantiles 25% et 75%,\n",
    "* IQR l'intervalle interquartile (Q3 - Q1)\n",
    "* α le facteur d'ajustement."
   ]
  },
  {
   "cell_type": "markdown",
   "metadata": {},
   "source": [
    "Pour cette question, on exclut `SalePrice` car les seules valeurs manquantes de cet attribut sont celles du dataset de test."
   ]
  },
  {
   "cell_type": "markdown",
   "metadata": {},
   "source": [
    "**Important :** Pour cette question, utilisez le jeux de données `df_order1` copié vers la fin de la section 2."
   ]
  },
  {
   "cell_type": "markdown",
   "metadata": {},
   "source": [
    "### 6.1 Question 17 (5 points)\n",
    "\n",
    "Testez plusieurs valeurs du facteur d'ajustement α dans l'intervalle [1.5, 5] avec un pas de 0.5.\n",
    "Pour chaque valeur de α :\n",
    "- Calculez les bornes de détection des valeurs aberrantes (fences) pour chaque attribut numérique.\n",
    "- Déterminez le nombre de valeurs aberrantes détectées pour chaque attribut.\n",
    "- Affichez les résultats dans un `DataFrame`, où les lignes correspondent aux différentes valeurs de α et les colonnes correspondent aux attributs numériques."
   ]
  },
  {
   "cell_type": "markdown",
   "metadata": {},
   "source": [
    "**Remarque :** Vous pouvez utiliser la fonction `percentile` de `numpy` pour calculer les quantiles."
   ]
  },
  {
   "cell_type": "code",
   "execution_count": 1,
   "metadata": {
    "id": "y3CRdn2sNH-W"
   },
   "outputs": [],
   "source": [
    "#TODO"
   ]
  },
  {
   "cell_type": "markdown",
   "metadata": {},
   "source": [
    "Visualisez les résultats dans une seule figure:\n",
    "- L’axe X représente les valeurs de α.\n",
    "- L’axe Y représente le nombre de valeurs aberrantes.\n",
    "- Chaque courbe correspond à un attribut numérique, illustrant l’évolution du nombre de valeurs aberrantes en fonction de α.\n",
    "\n",
    "Quelle valeur de α vous semble le mieux adaptée? Justifiez votre réponse."
   ]
  },
  {
   "cell_type": "code",
   "execution_count": null,
   "metadata": {},
   "outputs": [],
   "source": [
    "#TODO"
   ]
  },
  {
   "cell_type": "markdown",
   "metadata": {
    "id": "wj-3CYhqNGuG"
   },
   "source": [
    "### 6.2 Question 18 (5 points)"
   ]
  },
  {
   "cell_type": "markdown",
   "metadata": {},
   "source": [
    "**On  fixe le facteur d'ajustement α à `3` pour tous les attributs.**"
   ]
  },
  {
   "cell_type": "markdown",
   "metadata": {},
   "source": [
    "Pour chaque attribut numérique, tracez un boxplot. Ajoutez également deux lignes horizontales représentant les bornes inférieure et supérieure de l’intervalle [Q1 - α * IQR, Q3 + α * IQR]."
   ]
  },
  {
   "cell_type": "code",
   "execution_count": null,
   "metadata": {
    "id": "AGf-A4Xz60pT"
   },
   "outputs": [],
   "source": [
    "#TODO"
   ]
  },
  {
   "cell_type": "markdown",
   "metadata": {},
   "source": [
    "Pour chaque attribut numérique (à l'exception de `BsmtFinSF2`), remplacez les valeurs aberrantes détectées avec α=3 par la `valeur médiane` de la colonne. Pourquoi ce remplacement n’est pas approprié pour l’attribut `BsmtFinSF2` ?"
   ]
  },
  {
   "cell_type": "code",
   "execution_count": null,
   "metadata": {},
   "outputs": [],
   "source": [
    "#TODO"
   ]
  }
 ],
 "metadata": {
  "colab": {
   "provenance": []
  },
  "kernelspec": {
   "display_name": "venv",
   "language": "python",
   "name": "python3"
  },
  "language_info": {
   "codemirror_mode": {
    "name": "ipython",
    "version": 3
   },
   "file_extension": ".py",
   "mimetype": "text/x-python",
   "name": "python",
   "nbconvert_exporter": "python",
   "pygments_lexer": "ipython3",
   "version": "3.12.0"
  }
 },
 "nbformat": 4,
 "nbformat_minor": 4
}
